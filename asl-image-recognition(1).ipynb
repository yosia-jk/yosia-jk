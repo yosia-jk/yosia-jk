{
 "cells": [
  {
   "cell_type": "markdown",
   "id": "d6914eb5",
   "metadata": {
    "papermill": {
     "duration": 0.014769,
     "end_time": "2022-04-10T12:35:00.154812",
     "exception": false,
     "start_time": "2022-04-10T12:35:00.140043",
     "status": "completed"
    },
    "tags": []
   },
   "source": [
    "## Import Libraries"
   ]
  },
  {
   "cell_type": "code",
   "execution_count": 1,
   "id": "adc4ca7b",
   "metadata": {
    "execution": {
     "iopub.execute_input": "2022-04-10T12:35:00.195696Z",
     "iopub.status.busy": "2022-04-10T12:35:00.192297Z",
     "iopub.status.idle": "2022-04-10T12:35:06.374180Z",
     "shell.execute_reply": "2022-04-10T12:35:06.373078Z",
     "shell.execute_reply.started": "2022-04-10T10:22:27.198043Z"
    },
    "papermill": {
     "duration": 6.204146,
     "end_time": "2022-04-10T12:35:06.374344",
     "exception": false,
     "start_time": "2022-04-10T12:35:00.170198",
     "status": "completed"
    },
    "tags": []
   },
   "outputs": [],
   "source": [
    "import pandas as pd\n",
    "import numpy as np\n",
    "import matplotlib.pyplot as plt\n",
    "import matplotlib.image as mpimg\n",
    "import seaborn as sns\n",
    "import os\n",
    "\n",
    "from sklearn.model_selection import train_test_split\n",
    "\n",
    "import cv2\n",
    "from keras.models import Sequential\n",
    "from keras.layers import Conv2D, MaxPooling2D, Activation, Dense, Flatten, Dropout\n",
    "from keras.preprocessing.image import ImageDataGenerator"
   ]
  },
  {
   "cell_type": "markdown",
   "id": "1a508c60",
   "metadata": {
    "papermill": {
     "duration": 0.014003,
     "end_time": "2022-04-10T12:35:06.402167",
     "exception": false,
     "start_time": "2022-04-10T12:35:06.388164",
     "status": "completed"
    },
    "tags": []
   },
   "source": [
    "## Defining The Dataframe"
   ]
  },
  {
   "cell_type": "code",
   "execution_count": 2,
   "id": "a3c3ee13",
   "metadata": {
    "execution": {
     "iopub.execute_input": "2022-04-10T12:35:06.437308Z",
     "iopub.status.busy": "2022-04-10T12:35:06.436631Z",
     "iopub.status.idle": "2022-04-10T12:35:23.040567Z",
     "shell.execute_reply": "2022-04-10T12:35:23.041006Z",
     "shell.execute_reply.started": "2022-04-10T10:22:33.376054Z"
    },
    "papermill": {
     "duration": 16.624805,
     "end_time": "2022-04-10T12:35:23.041166",
     "exception": false,
     "start_time": "2022-04-10T12:35:06.416361",
     "status": "completed"
    },
    "tags": []
   },
   "outputs": [
    {
     "data": {
      "text/html": [
       "<div>\n",
       "<style scoped>\n",
       "    .dataframe tbody tr th:only-of-type {\n",
       "        vertical-align: middle;\n",
       "    }\n",
       "\n",
       "    .dataframe tbody tr th {\n",
       "        vertical-align: top;\n",
       "    }\n",
       "\n",
       "    .dataframe thead th {\n",
       "        text-align: right;\n",
       "    }\n",
       "</style>\n",
       "<table border=\"1\" class=\"dataframe\">\n",
       "  <thead>\n",
       "    <tr style=\"text-align: right;\">\n",
       "      <th></th>\n",
       "      <th>label</th>\n",
       "      <th>file</th>\n",
       "    </tr>\n",
       "  </thead>\n",
       "  <tbody>\n",
       "    <tr>\n",
       "      <th>0</th>\n",
       "      <td>N</td>\n",
       "      <td>../input/asl-alphabet/asl_alphabet_train/asl_a...</td>\n",
       "    </tr>\n",
       "    <tr>\n",
       "      <th>1</th>\n",
       "      <td>N</td>\n",
       "      <td>../input/asl-alphabet/asl_alphabet_train/asl_a...</td>\n",
       "    </tr>\n",
       "    <tr>\n",
       "      <th>2</th>\n",
       "      <td>N</td>\n",
       "      <td>../input/asl-alphabet/asl_alphabet_train/asl_a...</td>\n",
       "    </tr>\n",
       "    <tr>\n",
       "      <th>3</th>\n",
       "      <td>N</td>\n",
       "      <td>../input/asl-alphabet/asl_alphabet_train/asl_a...</td>\n",
       "    </tr>\n",
       "    <tr>\n",
       "      <th>4</th>\n",
       "      <td>N</td>\n",
       "      <td>../input/asl-alphabet/asl_alphabet_train/asl_a...</td>\n",
       "    </tr>\n",
       "  </tbody>\n",
       "</table>\n",
       "</div>"
      ],
      "text/plain": [
       "  label                                               file\n",
       "0     N  ../input/asl-alphabet/asl_alphabet_train/asl_a...\n",
       "1     N  ../input/asl-alphabet/asl_alphabet_train/asl_a...\n",
       "2     N  ../input/asl-alphabet/asl_alphabet_train/asl_a...\n",
       "3     N  ../input/asl-alphabet/asl_alphabet_train/asl_a...\n",
       "4     N  ../input/asl-alphabet/asl_alphabet_train/asl_a..."
      ]
     },
     "execution_count": 2,
     "metadata": {},
     "output_type": "execute_result"
    }
   ],
   "source": [
    "#Managing the data path\n",
    "train_path='../input/asl-alphabet/asl_alphabet_train/asl_alphabet_train'\n",
    "\n",
    "data = {'label':[],'file':[]}\n",
    "for folder in os.listdir(train_path):\n",
    "    label_folder = os.path.join(train_path, folder)\n",
    "    for file in os.listdir(label_folder):\n",
    "        data['label'].append(folder)\n",
    "        data['file'].append(os.path.join(train_path,folder,file))\n",
    "\n",
    "dftrain=pd.DataFrame(data)\n",
    "dftrain.head()"
   ]
  },
  {
   "cell_type": "code",
   "execution_count": 3,
   "id": "94f758ef",
   "metadata": {
    "execution": {
     "iopub.execute_input": "2022-04-10T12:35:23.076171Z",
     "iopub.status.busy": "2022-04-10T12:35:23.075591Z",
     "iopub.status.idle": "2022-04-10T12:35:23.361902Z",
     "shell.execute_reply": "2022-04-10T12:35:23.362332Z",
     "shell.execute_reply.started": "2022-04-10T10:22:46.663252Z"
    },
    "papermill": {
     "duration": 0.306307,
     "end_time": "2022-04-10T12:35:23.362498",
     "exception": false,
     "start_time": "2022-04-10T12:35:23.056191",
     "status": "completed"
    },
    "tags": []
   },
   "outputs": [
    {
     "data": {
      "text/plain": [
       "<matplotlib.image.AxesImage at 0x7f33f407e810>"
      ]
     },
     "execution_count": 3,
     "metadata": {},
     "output_type": "execute_result"
    },
    {
     "data": {
      "image/png": "[encoded data removed]",
      "text/plain": [
       "<Figure size 432x288 with 1 Axes>"
      ]
     },
     "metadata": {
      "needs_background": "light"
     },
     "output_type": "display_data"
    }
   ],
   "source": [
    "plt.imshow(mpimg.imread(dftrain.iloc[0,1]))"
   ]
  },
  {
   "cell_type": "markdown",
   "id": "c2b02ba2",
   "metadata": {
    "papermill": {
     "duration": 0.017477,
     "end_time": "2022-04-10T12:35:23.397052",
     "exception": false,
     "start_time": "2022-04-10T12:35:23.379575",
     "status": "completed"
    },
    "tags": []
   },
   "source": [
    "## Preprocessing"
   ]
  },
  {
   "cell_type": "code",
   "execution_count": 4,
   "id": "a9cfc328",
   "metadata": {
    "execution": {
     "iopub.execute_input": "2022-04-10T12:35:23.436321Z",
     "iopub.status.busy": "2022-04-10T12:35:23.435558Z",
     "iopub.status.idle": "2022-04-10T12:35:23.450260Z",
     "shell.execute_reply": "2022-04-10T12:35:23.449798Z",
     "shell.execute_reply.started": "2022-04-10T10:22:46.934025Z"
    },
    "papermill": {
     "duration": 0.036328,
     "end_time": "2022-04-10T12:35:23.450385",
     "exception": false,
     "start_time": "2022-04-10T12:35:23.414057",
     "status": "completed"
    },
    "tags": []
   },
   "outputs": [],
   "source": [
    "dtrain, dtest = train_test_split(dftrain, test_size=0.2, random_state=5)"
   ]
  },
  {
   "cell_type": "code",
   "execution_count": 5,
   "id": "cffc491e",
   "metadata": {
    "execution": {
     "iopub.execute_input": "2022-04-10T12:35:23.492849Z",
     "iopub.status.busy": "2022-04-10T12:35:23.491898Z",
     "iopub.status.idle": "2022-04-10T12:38:36.927742Z",
     "shell.execute_reply": "2022-04-10T12:38:36.928346Z",
     "shell.execute_reply.started": "2022-04-10T10:22:46.953795Z"
    },
    "papermill": {
     "duration": 193.460381,
     "end_time": "2022-04-10T12:38:36.928571",
     "exception": false,
     "start_time": "2022-04-10T12:35:23.468190",
     "status": "completed"
    },
    "tags": []
   },
   "outputs": [
    {
     "name": "stdout",
     "output_type": "stream",
     "text": [
      "Found 69600 validated image filenames belonging to 29 classes.\n",
      "Found 17400 validated image filenames belonging to 29 classes.\n"
     ]
    }
   ],
   "source": [
    "img_width, img_height=64,64\n",
    "\n",
    "traindatagen = ImageDataGenerator(rescale=1./255)\n",
    "testdatagen = ImageDataGenerator(rescale=1./255)\n",
    "\n",
    "traingen = traindatagen.flow_from_dataframe(\n",
    "                            dataframe=dtrain,\n",
    "                            x_col='file',\n",
    "                            y_col='label',\n",
    "                            target_size=(img_width,img_height),\n",
    "                            class_mode='categorical'\n",
    "                            )\n",
    "\n",
    "testgen = testdatagen.flow_from_dataframe(\n",
    "                            dataframe=dtest,\n",
    "                            x_col='file',\n",
    "                            y_col='label',\n",
    "                            target_size=(img_width,img_height),\n",
    "                            class_mode='categorical'\n",
    "                            )\n",
    "\n"
   ]
  },
  {
   "cell_type": "markdown",
   "id": "bbbb449a",
   "metadata": {
    "papermill": {
     "duration": 0.018182,
     "end_time": "2022-04-10T12:38:36.965323",
     "exception": false,
     "start_time": "2022-04-10T12:38:36.947141",
     "status": "completed"
    },
    "tags": []
   },
   "source": [
    "## Defining The Model"
   ]
  },
  {
   "cell_type": "code",
   "execution_count": 6,
   "id": "262e01ba",
   "metadata": {
    "execution": {
     "iopub.execute_input": "2022-04-10T12:38:37.010718Z",
     "iopub.status.busy": "2022-04-10T12:38:37.009999Z",
     "iopub.status.idle": "2022-04-10T12:38:39.450117Z",
     "shell.execute_reply": "2022-04-10T12:38:39.450875Z",
     "shell.execute_reply.started": "2022-04-10T10:25:23.562285Z"
    },
    "papermill": {
     "duration": 2.46733,
     "end_time": "2022-04-10T12:38:39.451095",
     "exception": false,
     "start_time": "2022-04-10T12:38:36.983765",
     "status": "completed"
    },
    "tags": []
   },
   "outputs": [
    {
     "name": "stderr",
     "output_type": "stream",
     "text": [
      "2022-04-10 12:38:37.081394: I tensorflow/stream_executor/cuda/cuda_gpu_executor.cc:937] successful NUMA node read from SysFS had negative value (-1), but there must be at least one NUMA node, so returning NUMA node zero\n",
      "2022-04-10 12:38:37.174083: I tensorflow/stream_executor/cuda/cuda_gpu_executor.cc:937] successful NUMA node read from SysFS had negative value (-1), but there must be at least one NUMA node, so returning NUMA node zero\n",
      "2022-04-10 12:38:37.175102: I tensorflow/stream_executor/cuda/cuda_gpu_executor.cc:937] successful NUMA node read from SysFS had negative value (-1), but there must be at least one NUMA node, so returning NUMA node zero\n",
      "2022-04-10 12:38:37.177462: I tensorflow/core/platform/cpu_feature_guard.cc:142] This TensorFlow binary is optimized with oneAPI Deep Neural Network Library (oneDNN) to use the following CPU instructions in performance-critical operations:  AVX2 AVX512F FMA\n",
      "To enable them in other operations, rebuild TensorFlow with the appropriate compiler flags.\n",
      "2022-04-10 12:38:37.178910: I tensorflow/stream_executor/cuda/cuda_gpu_executor.cc:937] successful NUMA node read from SysFS had negative value (-1), but there must be at least one NUMA node, so returning NUMA node zero\n",
      "2022-04-10 12:38:37.180079: I tensorflow/stream_executor/cuda/cuda_gpu_executor.cc:937] successful NUMA node read from SysFS had negative value (-1), but there must be at least one NUMA node, so returning NUMA node zero\n",
      "2022-04-10 12:38:37.181031: I tensorflow/stream_executor/cuda/cuda_gpu_executor.cc:937] successful NUMA node read from SysFS had negative value (-1), but there must be at least one NUMA node, so returning NUMA node zero\n",
      "2022-04-10 12:38:39.005133: I tensorflow/stream_executor/cuda/cuda_gpu_executor.cc:937] successful NUMA node read from SysFS had negative value (-1), but there must be at least one NUMA node, so returning NUMA node zero\n",
      "2022-04-10 12:38:39.006195: I tensorflow/stream_executor/cuda/cuda_gpu_executor.cc:937] successful NUMA node read from SysFS had negative value (-1), but there must be at least one NUMA node, so returning NUMA node zero\n",
      "2022-04-10 12:38:39.007054: I tensorflow/stream_executor/cuda/cuda_gpu_executor.cc:937] successful NUMA node read from SysFS had negative value (-1), but there must be at least one NUMA node, so returning NUMA node zero\n",
      "2022-04-10 12:38:39.007749: I tensorflow/core/common_runtime/gpu/gpu_device.cc:1510] Created device /job:localhost/replica:0/task:0/device:GPU:0 with 15403 MB memory:  -> device: 0, name: Tesla P100-PCIE-16GB, pci bus id: 0000:00:04.0, compute capability: 6.0\n"
     ]
    }
   ],
   "source": [
    "model = Sequential()\n",
    "\n",
    "model.add(Conv2D(filters=32,kernel_size=[5,5], activation='relu',input_shape=(img_width, img_height, 3)))\n",
    "model.add(MaxPooling2D(2,2))\n",
    "\n",
    "model.add(Conv2D(filters=64,kernel_size=[3,3], activation='relu'))\n",
    "model.add(MaxPooling2D(2,2))\n",
    "model.add(Dropout(0.3))\n",
    "\n",
    "model.add(Conv2D(filters=64,kernel_size=[3,3], activation='relu'))\n",
    "model.add(MaxPooling2D(2,2))\n",
    "model.add(Dropout(0.3))\n",
    "\n",
    "model.add(Flatten())\n",
    "model.add(Dense(256, activation='relu'))\n",
    "model.add(Dense(128, activation='relu'))\n",
    "model.add(Dense(29, activation = \"softmax\"))"
   ]
  },
  {
   "cell_type": "code",
   "execution_count": 7,
   "id": "346bbd10",
   "metadata": {
    "execution": {
     "iopub.execute_input": "2022-04-10T12:38:39.496797Z",
     "iopub.status.busy": "2022-04-10T12:38:39.495888Z",
     "iopub.status.idle": "2022-04-10T12:38:39.508187Z",
     "shell.execute_reply": "2022-04-10T12:38:39.507701Z",
     "shell.execute_reply.started": "2022-04-10T10:25:26.017501Z"
    },
    "papermill": {
     "duration": 0.036808,
     "end_time": "2022-04-10T12:38:39.508327",
     "exception": false,
     "start_time": "2022-04-10T12:38:39.471519",
     "status": "completed"
    },
    "tags": []
   },
   "outputs": [],
   "source": [
    "model.compile(optimizer='adam',\n",
    "              loss='categorical_crossentropy',\n",
    "              metrics=['accuracy'])"
   ]
  },
  {
   "cell_type": "code",
   "execution_count": 8,
   "id": "2729660f",
   "metadata": {
    "execution": {
     "iopub.execute_input": "2022-04-10T12:38:39.551720Z",
     "iopub.status.busy": "2022-04-10T12:38:39.550274Z",
     "iopub.status.idle": "2022-04-10T12:38:39.555157Z",
     "shell.execute_reply": "2022-04-10T12:38:39.554741Z",
     "shell.execute_reply.started": "2022-04-10T10:25:26.033868Z"
    },
    "papermill": {
     "duration": 0.028079,
     "end_time": "2022-04-10T12:38:39.555276",
     "exception": false,
     "start_time": "2022-04-10T12:38:39.527197",
     "status": "completed"
    },
    "tags": []
   },
   "outputs": [],
   "source": [
    "#Early Stop Callback\n",
    "from tensorflow.keras.callbacks import EarlyStopping, ModelCheckpoint\n",
    "callback = EarlyStopping(monitor='val_loss', patience=2)"
   ]
  },
  {
   "cell_type": "code",
   "execution_count": 9,
   "id": "410a3609",
   "metadata": {
    "execution": {
     "iopub.execute_input": "2022-04-10T12:38:39.599059Z",
     "iopub.status.busy": "2022-04-10T12:38:39.596840Z",
     "iopub.status.idle": "2022-04-10T12:59:32.050761Z",
     "shell.execute_reply": "2022-04-10T12:59:32.051445Z",
     "shell.execute_reply.started": "2022-04-10T10:25:26.042962Z"
    },
    "papermill": {
     "duration": 1252.477068,
     "end_time": "2022-04-10T12:59:32.051658",
     "exception": false,
     "start_time": "2022-04-10T12:38:39.574590",
     "status": "completed"
    },
    "tags": []
   },
   "outputs": [
    {
     "name": "stderr",
     "output_type": "stream",
     "text": [
      "2022-04-10 12:38:39.964852: I tensorflow/compiler/mlir/mlir_graph_optimization_pass.cc:185] None of the MLIR Optimization Passes are enabled (registered 2)\n"
     ]
    },
    {
     "name": "stdout",
     "output_type": "stream",
     "text": [
      "Epoch 1/50\n"
     ]
    },
    {
     "name": "stderr",
     "output_type": "stream",
     "text": [
      "2022-04-10 12:38:41.636265: I tensorflow/stream_executor/cuda/cuda_dnn.cc:369] Loaded cuDNN version 8005\n"
     ]
    },
    {
     "name": "stdout",
     "output_type": "stream",
     "text": [
      "2175/2175 [==============================] - 652s 297ms/step - loss: 0.9365 - accuracy: 0.7031 - val_loss: 0.1938 - val_accuracy: 0.9372\n",
      "Epoch 2/50\n",
      "2175/2175 [==============================] - 145s 67ms/step - loss: 0.1818 - accuracy: 0.9379 - val_loss: 0.0499 - val_accuracy: 0.9842\n",
      "Epoch 3/50\n",
      "2175/2175 [==============================] - 137s 63ms/step - loss: 0.1127 - accuracy: 0.9621 - val_loss: 0.0202 - val_accuracy: 0.9931\n",
      "Epoch 4/50\n",
      "2175/2175 [==============================] - 137s 63ms/step - loss: 0.0842 - accuracy: 0.9727 - val_loss: 0.0214 - val_accuracy: 0.9934\n",
      "Epoch 5/50\n",
      "2175/2175 [==============================] - 138s 63ms/step - loss: 0.0739 - accuracy: 0.9768 - val_loss: 0.0516 - val_accuracy: 0.9819\n"
     ]
    }
   ],
   "source": [
    "history = model.fit(traingen,\n",
    "                   epochs=50,\n",
    "                   validation_data=testgen,\n",
    "                   callbacks=[callback])"
   ]
  },
  {
   "cell_type": "code",
   "execution_count": 10,
   "id": "c586d455",
   "metadata": {
    "execution": {
     "iopub.execute_input": "2022-04-10T12:59:37.515179Z",
     "iopub.status.busy": "2022-04-10T12:59:37.514312Z",
     "iopub.status.idle": "2022-04-10T12:59:37.516225Z",
     "shell.execute_reply": "2022-04-10T12:59:37.515724Z",
     "shell.execute_reply.started": "2022-04-10T10:49:57.872473Z"
    },
    "papermill": {
     "duration": 2.929807,
     "end_time": "2022-04-10T12:59:37.516356",
     "exception": false,
     "start_time": "2022-04-10T12:59:34.586549",
     "status": "completed"
    },
    "tags": []
   },
   "outputs": [],
   "source": [
    "#model.save('asl_model.h5')"
   ]
  },
  {
   "cell_type": "markdown",
   "id": "ac457282",
   "metadata": {
    "papermill": {
     "duration": 2.644428,
     "end_time": "2022-04-10T12:59:42.675414",
     "exception": false,
     "start_time": "2022-04-10T12:59:40.030986",
     "status": "completed"
    },
    "tags": []
   },
   "source": [
    "##Evaluating The Model"
   ]
  },
  {
   "cell_type": "code",
   "execution_count": 11,
   "id": "cb00c2a2",
   "metadata": {
    "execution": {
     "iopub.execute_input": "2022-04-10T12:59:48.111054Z",
     "iopub.status.busy": "2022-04-10T12:59:48.110321Z",
     "iopub.status.idle": "2022-04-10T12:59:48.113387Z",
     "shell.execute_reply": "2022-04-10T12:59:48.113806Z",
     "shell.execute_reply.started": "2022-04-10T12:22:12.369311Z"
    },
    "papermill": {
     "duration": 2.825928,
     "end_time": "2022-04-10T12:59:48.113957",
     "exception": false,
     "start_time": "2022-04-10T12:59:45.288029",
     "status": "completed"
    },
    "tags": []
   },
   "outputs": [
    {
     "data": {
      "text/html": [
       "<div>\n",
       "<style scoped>\n",
       "    .dataframe tbody tr th:only-of-type {\n",
       "        vertical-align: middle;\n",
       "    }\n",
       "\n",
       "    .dataframe tbody tr th {\n",
       "        vertical-align: top;\n",
       "    }\n",
       "\n",
       "    .dataframe thead th {\n",
       "        text-align: right;\n",
       "    }\n",
       "</style>\n",
       "<table border=\"1\" class=\"dataframe\">\n",
       "  <thead>\n",
       "    <tr style=\"text-align: right;\">\n",
       "      <th></th>\n",
       "      <th>loss</th>\n",
       "      <th>accuracy</th>\n",
       "      <th>val_loss</th>\n",
       "      <th>val_accuracy</th>\n",
       "    </tr>\n",
       "  </thead>\n",
       "  <tbody>\n",
       "    <tr>\n",
       "      <th>0</th>\n",
       "      <td>0.936524</td>\n",
       "      <td>0.703103</td>\n",
       "      <td>0.193848</td>\n",
       "      <td>0.937184</td>\n",
       "    </tr>\n",
       "    <tr>\n",
       "      <th>1</th>\n",
       "      <td>0.181843</td>\n",
       "      <td>0.937902</td>\n",
       "      <td>0.049872</td>\n",
       "      <td>0.984195</td>\n",
       "    </tr>\n",
       "    <tr>\n",
       "      <th>2</th>\n",
       "      <td>0.112735</td>\n",
       "      <td>0.962069</td>\n",
       "      <td>0.020187</td>\n",
       "      <td>0.993103</td>\n",
       "    </tr>\n",
       "    <tr>\n",
       "      <th>3</th>\n",
       "      <td>0.084152</td>\n",
       "      <td>0.972730</td>\n",
       "      <td>0.021396</td>\n",
       "      <td>0.993391</td>\n",
       "    </tr>\n",
       "    <tr>\n",
       "      <th>4</th>\n",
       "      <td>0.073864</td>\n",
       "      <td>0.976810</td>\n",
       "      <td>0.051622</td>\n",
       "      <td>0.981897</td>\n",
       "    </tr>\n",
       "  </tbody>\n",
       "</table>\n",
       "</div>"
      ],
      "text/plain": [
       "       loss  accuracy  val_loss  val_accuracy\n",
       "0  0.936524  0.703103  0.193848      0.937184\n",
       "1  0.181843  0.937902  0.049872      0.984195\n",
       "2  0.112735  0.962069  0.020187      0.993103\n",
       "3  0.084152  0.972730  0.021396      0.993391\n",
       "4  0.073864  0.976810  0.051622      0.981897"
      ]
     },
     "execution_count": 11,
     "metadata": {},
     "output_type": "execute_result"
    }
   ],
   "source": [
    "score=pd.DataFrame(history.history)\n",
    "score.head()"
   ]
  },
  {
   "cell_type": "code",
   "execution_count": 12,
   "id": "4636abe2",
   "metadata": {
    "execution": {
     "iopub.execute_input": "2022-04-10T12:59:53.840569Z",
     "iopub.status.busy": "2022-04-10T12:59:53.839749Z",
     "iopub.status.idle": "2022-04-10T12:59:54.147316Z",
     "shell.execute_reply": "2022-04-10T12:59:54.146644Z",
     "shell.execute_reply.started": "2022-04-10T10:49:58.173538Z"
    },
    "papermill": {
     "duration": 3.39686,
     "end_time": "2022-04-10T12:59:54.147651",
     "exception": true,
     "start_time": "2022-04-10T12:59:50.750791",
     "status": "failed"
    },
    "tags": []
   },
   "outputs": [
    {
     "ename": "KeyError",
     "evalue": "\"None of [Index(['acc', 'val_acc'], dtype='object')] are in the [columns]\"",
     "output_type": "error",
     "traceback": [
      "\u001b[0;31m---------------------------------------------------------------------------\u001b[0m",
      "\u001b[0;31mKeyError\u001b[0m                                  Traceback (most recent call last)",
      "\u001b[0;32m/tmp/ipykernel_23/2919534956.py\u001b[0m in \u001b[0;36m<module>\u001b[0;34m\u001b[0m\n\u001b[0;32m----> 1\u001b[0;31m \u001b[0msns\u001b[0m\u001b[0;34m.\u001b[0m\u001b[0mlineplot\u001b[0m\u001b[0;34m(\u001b[0m\u001b[0mdata\u001b[0m\u001b[0;34m=\u001b[0m\u001b[0mscore\u001b[0m\u001b[0;34m[\u001b[0m\u001b[0;34m[\u001b[0m\u001b[0;34m'acc'\u001b[0m\u001b[0;34m,\u001b[0m\u001b[0;34m'val_acc'\u001b[0m\u001b[0;34m]\u001b[0m\u001b[0;34m]\u001b[0m\u001b[0;34m)\u001b[0m\u001b[0;34m\u001b[0m\u001b[0;34m\u001b[0m\u001b[0m\n\u001b[0m",
      "\u001b[0;32m/opt/conda/lib/python3.7/site-packages/pandas/core/frame.py\u001b[0m in \u001b[0;36m__getitem__\u001b[0;34m(self, key)\u001b[0m\n\u001b[1;32m   3462\u001b[0m             \u001b[0;32mif\u001b[0m \u001b[0mis_iterator\u001b[0m\u001b[0;34m(\u001b[0m\u001b[0mkey\u001b[0m\u001b[0;34m)\u001b[0m\u001b[0;34m:\u001b[0m\u001b[0;34m\u001b[0m\u001b[0;34m\u001b[0m\u001b[0m\n\u001b[1;32m   3463\u001b[0m                 \u001b[0mkey\u001b[0m \u001b[0;34m=\u001b[0m \u001b[0mlist\u001b[0m\u001b[0;34m(\u001b[0m\u001b[0mkey\u001b[0m\u001b[0;34m)\u001b[0m\u001b[0;34m\u001b[0m\u001b[0;34m\u001b[0m\u001b[0m\n\u001b[0;32m-> 3464\u001b[0;31m             \u001b[0mindexer\u001b[0m \u001b[0;34m=\u001b[0m \u001b[0mself\u001b[0m\u001b[0;34m.\u001b[0m\u001b[0mloc\u001b[0m\u001b[0;34m.\u001b[0m\u001b[0m_get_listlike_indexer\u001b[0m\u001b[0;34m(\u001b[0m\u001b[0mkey\u001b[0m\u001b[0;34m,\u001b[0m \u001b[0maxis\u001b[0m\u001b[0;34m=\u001b[0m\u001b[0;36m1\u001b[0m\u001b[0;34m)\u001b[0m\u001b[0;34m[\u001b[0m\u001b[0;36m1\u001b[0m\u001b[0;34m]\u001b[0m\u001b[0;34m\u001b[0m\u001b[0;34m\u001b[0m\u001b[0m\n\u001b[0m\u001b[1;32m   3465\u001b[0m \u001b[0;34m\u001b[0m\u001b[0m\n\u001b[1;32m   3466\u001b[0m         \u001b[0;31m# take() does not accept boolean indexers\u001b[0m\u001b[0;34m\u001b[0m\u001b[0;34m\u001b[0m\u001b[0;34m\u001b[0m\u001b[0m\n",
      "\u001b[0;32m/opt/conda/lib/python3.7/site-packages/pandas/core/indexing.py\u001b[0m in \u001b[0;36m_get_listlike_indexer\u001b[0;34m(self, key, axis)\u001b[0m\n\u001b[1;32m   1312\u001b[0m             \u001b[0mkeyarr\u001b[0m\u001b[0;34m,\u001b[0m \u001b[0mindexer\u001b[0m\u001b[0;34m,\u001b[0m \u001b[0mnew_indexer\u001b[0m \u001b[0;34m=\u001b[0m \u001b[0max\u001b[0m\u001b[0;34m.\u001b[0m\u001b[0m_reindex_non_unique\u001b[0m\u001b[0;34m(\u001b[0m\u001b[0mkeyarr\u001b[0m\u001b[0;34m)\u001b[0m\u001b[0;34m\u001b[0m\u001b[0;34m\u001b[0m\u001b[0m\n\u001b[1;32m   1313\u001b[0m \u001b[0;34m\u001b[0m\u001b[0m\n\u001b[0;32m-> 1314\u001b[0;31m         \u001b[0mself\u001b[0m\u001b[0;34m.\u001b[0m\u001b[0m_validate_read_indexer\u001b[0m\u001b[0;34m(\u001b[0m\u001b[0mkeyarr\u001b[0m\u001b[0;34m,\u001b[0m \u001b[0mindexer\u001b[0m\u001b[0;34m,\u001b[0m \u001b[0maxis\u001b[0m\u001b[0;34m)\u001b[0m\u001b[0;34m\u001b[0m\u001b[0;34m\u001b[0m\u001b[0m\n\u001b[0m\u001b[1;32m   1315\u001b[0m \u001b[0;34m\u001b[0m\u001b[0m\n\u001b[1;32m   1316\u001b[0m         if needs_i8_conversion(ax.dtype) or isinstance(\n",
      "\u001b[0;32m/opt/conda/lib/python3.7/site-packages/pandas/core/indexing.py\u001b[0m in \u001b[0;36m_validate_read_indexer\u001b[0;34m(self, key, indexer, axis)\u001b[0m\n\u001b[1;32m   1372\u001b[0m                 \u001b[0;32mif\u001b[0m \u001b[0muse_interval_msg\u001b[0m\u001b[0;34m:\u001b[0m\u001b[0;34m\u001b[0m\u001b[0;34m\u001b[0m\u001b[0m\n\u001b[1;32m   1373\u001b[0m                     \u001b[0mkey\u001b[0m \u001b[0;34m=\u001b[0m \u001b[0mlist\u001b[0m\u001b[0;34m(\u001b[0m\u001b[0mkey\u001b[0m\u001b[0;34m)\u001b[0m\u001b[0;34m\u001b[0m\u001b[0;34m\u001b[0m\u001b[0m\n\u001b[0;32m-> 1374\u001b[0;31m                 \u001b[0;32mraise\u001b[0m \u001b[0mKeyError\u001b[0m\u001b[0;34m(\u001b[0m\u001b[0;34mf\"None of [{key}] are in the [{axis_name}]\"\u001b[0m\u001b[0;34m)\u001b[0m\u001b[0;34m\u001b[0m\u001b[0;34m\u001b[0m\u001b[0m\n\u001b[0m\u001b[1;32m   1375\u001b[0m \u001b[0;34m\u001b[0m\u001b[0m\n\u001b[1;32m   1376\u001b[0m             \u001b[0mnot_found\u001b[0m \u001b[0;34m=\u001b[0m \u001b[0mlist\u001b[0m\u001b[0;34m(\u001b[0m\u001b[0mensure_index\u001b[0m\u001b[0;34m(\u001b[0m\u001b[0mkey\u001b[0m\u001b[0;34m)\u001b[0m\u001b[0;34m[\u001b[0m\u001b[0mmissing_mask\u001b[0m\u001b[0;34m.\u001b[0m\u001b[0mnonzero\u001b[0m\u001b[0;34m(\u001b[0m\u001b[0;34m)\u001b[0m\u001b[0;34m[\u001b[0m\u001b[0;36m0\u001b[0m\u001b[0;34m]\u001b[0m\u001b[0;34m]\u001b[0m\u001b[0;34m.\u001b[0m\u001b[0munique\u001b[0m\u001b[0;34m(\u001b[0m\u001b[0;34m)\u001b[0m\u001b[0;34m)\u001b[0m\u001b[0;34m\u001b[0m\u001b[0;34m\u001b[0m\u001b[0m\n",
      "\u001b[0;31mKeyError\u001b[0m: \"None of [Index(['acc', 'val_acc'], dtype='object')] are in the [columns]\""
     ]
    }
   ],
   "source": [
    "sns.lineplot(data=score[['acc','val_acc']])"
   ]
  }
 ],
 "metadata": {
  "kernelspec": {
   "display_name": "Python 3",
   "language": "python",
   "name": "python3"
  },
  "language_info": {
   "codemirror_mode": {
    "name": "ipython",
    "version": 3
   },
   "file_extension": ".py",
   "mimetype": "text/x-python",
   "name": "python",
   "nbconvert_exporter": "python",
   "pygments_lexer": "ipython3",
   "version": "3.7.12"
  },
  "papermill": {
   "default_parameters": {},
   "duration": 1508.8356,
   "end_time": "2022-04-10T13:00:00.402355",
   "environment_variables": {},
   "exception": true,
   "input_path": "__notebook__.ipynb",
   "output_path": "__notebook__.ipynb",
   "parameters": {},
   "start_time": "2022-04-10T12:34:51.566755",
   "version": "2.3.3"
  }
 },
 "nbformat": 4,
 "nbformat_minor": 5
}
